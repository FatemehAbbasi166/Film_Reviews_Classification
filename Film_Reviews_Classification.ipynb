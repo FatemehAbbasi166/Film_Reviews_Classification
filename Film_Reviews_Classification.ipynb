{
  "nbformat": 4,
  "nbformat_minor": 0,
  "metadata": {
    "colab": {
      "provenance": [],
      "authorship_tag": "ABX9TyNanGmmdhgcIdL1ptvD6bvm",
      "include_colab_link": true
    },
    "kernelspec": {
      "name": "python3",
      "display_name": "Python 3"
    },
    "language_info": {
      "name": "python"
    }
  },
  "cells": [
    {
      "cell_type": "markdown",
      "metadata": {
        "id": "view-in-github",
        "colab_type": "text"
      },
      "source": [
        "<a href=\"https://colab.research.google.com/github/FatemehAbbasi166/Film_Reviews_Classification/blob/main/Film_Reviews_Classification.ipynb\" target=\"_parent\"><img src=\"https://colab.research.google.com/assets/colab-badge.svg\" alt=\"Open In Colab\"/></a>"
      ]
    },
    {
      "cell_type": "code",
      "execution_count": 26,
      "metadata": {
        "id": "ggMZCOGoAxF2"
      },
      "outputs": [],
      "source": [
        "import numpy as np\n",
        "import tensorflow as tf\n",
        "from tensorflow.keras.preprocessing.text import Tokenizer\n",
        "from tensorflow.keras.preprocessing.sequence import pad_sequences"
      ]
    },
    {
      "cell_type": "code",
      "source": [
        "reviews = [\n",
        "  \"This movie was a breath of fresh air! The acting was superb, and the story kept me guessing until the very end.\",\n",
        "  \"The dialogue was cheesy and the plot predictable. A forgettable movie.\",\n",
        "  \"A visually stunning film with a powerful message. A must-watch for any sci-fi fan.\",\n",
        "  \"The acting was wooden and the special effects looked cheap. A disappointment.\",\n",
        "  \"A hilarious comedy that had me laughing out loud throughout. Perfect for a pick-me-up.\",\n",
        "  \"The pacing was slow and the ending felt rushed. Not my cup of tea.\",\n",
        "  \"A thought-provoking documentary that will stay with you long after the credits roll.\",\n",
        "  \"The characters were underdeveloped and the story lacked depth. Skippable.\",\n",
        "  \"A delightful family film with something for everyone. A great choice for a movie night.\",\n",
        "  \"The acting was phenomenal and the story was heartbreaking. A truly moving film.\",\n",
        "  # ... (remaining reviews, excluding reviews with mixed sentiment) ...\n",
        "  \"This historical drama captured the essence of the time period beautifully.\",\n",
        "  \"The cinematography was stunning, but the plot was convoluted.\",\n",
        "  \"A heartwarming story about overcoming adversity. A tearjerker!\",\n",
        "  \"The acting was so bad it was good. A cult classic in the making.\",\n",
        "  \"A thought-provoking film that challenges societal norms. Must-see for social commentary fans.\",\n",
        "  \"The special effects were groundbreaking, but the story lacked emotional depth.\",\n",
        "  \"A well-paced and suspenseful thriller that will keep you guessing.\",\n",
        "  \"The acting was phenomenal, but the ending felt rushed and unsatisfying.\",\n",
        "  \"A heartwarming comedy that will leave you with a smile. Perfect for a feel-good night.\",\n",
        "  \"The animation was beautiful, but the characters were forgettable.\",\n",
        "  \"A documentary that sheds light on a critical issue. A must-watch for anyone concerned about the topic.\",\n",
        "]\n",
        "labels = [\n",
        "  1,  # Positive\n",
        "  0,  # Negative\n",
        "  1,  # Positive\n",
        "  0,  # Negative\n",
        "  1,  # Positive\n",
        "  0,  # Negative\n",
        "  1,  # Positive\n",
        "  0,  # Negative\n",
        "  1,  # Positive\n",
        "  1,  # Positive\n",
        "  # ... (remaining labels, excluding labels for reviews with mixed sentiment) ...\n",
        "  1,  # Positive\n",
        "  0,  # Negative\n",
        "  1,  # Positive\n",
        "  1,  # Positive (assuming the review leans positive)\n",
        "  1,  # Positive\n",
        "  0,  # Negative\n",
        "  1,  # Positive\n",
        "  0,  # Negative\n",
        "  1,  # Positive\n",
        "  0,  # Negative\n",
        "  1,  # Positive\n",
        "]\n",
        "\n",
        "labels = np.array(labels)\n"
      ],
      "metadata": {
        "id": "FVGUsxLhx_aP"
      },
      "execution_count": 27,
      "outputs": []
    },
    {
      "cell_type": "code",
      "source": [
        "len(labels)"
      ],
      "metadata": {
        "colab": {
          "base_uri": "https://localhost:8080/"
        },
        "id": "RHfm6IYlyHEw",
        "outputId": "6cc6f0c2-f3b5-47ee-cc29-6aef3f0154b9"
      },
      "execution_count": 28,
      "outputs": [
        {
          "output_type": "execute_result",
          "data": {
            "text/plain": [
              "21"
            ]
          },
          "metadata": {},
          "execution_count": 28
        }
      ]
    },
    {
      "cell_type": "code",
      "source": [
        "len(reviews)"
      ],
      "metadata": {
        "colab": {
          "base_uri": "https://localhost:8080/"
        },
        "id": "t0M5pHDFyOKx",
        "outputId": "d9f0687b-81e5-47a6-c9d2-09f529e62220"
      },
      "execution_count": 29,
      "outputs": [
        {
          "output_type": "execute_result",
          "data": {
            "text/plain": [
              "21"
            ]
          },
          "metadata": {},
          "execution_count": 29
        }
      ]
    },
    {
      "cell_type": "code",
      "source": [
        "# Tokenize the reviews (convert to integer IDs)\n",
        "Tokenizer = Tokenizer(num_words = 1000) #Adjust num_words as needed\n",
        "Tokenizer.fit_on_texts(reviews)\n",
        "sequences = Tokenizer.texts_to_sequences(reviews)"
      ],
      "metadata": {
        "id": "AY33A4jPyRcw"
      },
      "execution_count": 30,
      "outputs": []
    },
    {
      "cell_type": "code",
      "source": [
        "Tokenizer"
      ],
      "metadata": {
        "colab": {
          "base_uri": "https://localhost:8080/"
        },
        "id": "IJEHJVO-yXLh",
        "outputId": "0a172312-f22b-4da9-b062-4894378189cb"
      },
      "execution_count": 31,
      "outputs": [
        {
          "output_type": "execute_result",
          "data": {
            "text/plain": [
              "<keras.src.legacy.preprocessing.text.Tokenizer at 0x7e5705c27b10>"
            ]
          },
          "metadata": {},
          "execution_count": 31
        }
      ]
    },
    {
      "cell_type": "code",
      "source": [
        "Tokenizer.index_word"
      ],
      "metadata": {
        "colab": {
          "base_uri": "https://localhost:8080/"
        },
        "id": "TxiJDXpuyajy",
        "outputId": "8eaaa793-3bc6-4c39-b8a3-37d68049b892"
      },
      "execution_count": 32,
      "outputs": [
        {
          "output_type": "execute_result",
          "data": {
            "text/plain": [
              "{1: 'the',\n",
              " 2: 'a',\n",
              " 3: 'was',\n",
              " 4: 'and',\n",
              " 5: 'for',\n",
              " 6: 'that',\n",
              " 7: 'acting',\n",
              " 8: 'story',\n",
              " 9: 'film',\n",
              " 10: 'with',\n",
              " 11: 'but',\n",
              " 12: 'movie',\n",
              " 13: 'of',\n",
              " 14: 'me',\n",
              " 15: 'must',\n",
              " 16: 'will',\n",
              " 17: 'you',\n",
              " 18: 'were',\n",
              " 19: 'this',\n",
              " 20: 'guessing',\n",
              " 21: 'plot',\n",
              " 22: 'forgettable',\n",
              " 23: 'stunning',\n",
              " 24: 'watch',\n",
              " 25: 'special',\n",
              " 26: 'effects',\n",
              " 27: 'comedy',\n",
              " 28: 'perfect',\n",
              " 29: 'ending',\n",
              " 30: 'felt',\n",
              " 31: 'rushed',\n",
              " 32: 'thought',\n",
              " 33: 'provoking',\n",
              " 34: 'documentary',\n",
              " 35: 'characters',\n",
              " 36: 'lacked',\n",
              " 37: 'depth',\n",
              " 38: 'night',\n",
              " 39: 'phenomenal',\n",
              " 40: 'heartwarming',\n",
              " 41: 'about',\n",
              " 42: 'good',\n",
              " 43: 'breath',\n",
              " 44: 'fresh',\n",
              " 45: 'air',\n",
              " 46: 'superb',\n",
              " 47: 'kept',\n",
              " 48: 'until',\n",
              " 49: 'very',\n",
              " 50: 'end',\n",
              " 51: 'dialogue',\n",
              " 52: 'cheesy',\n",
              " 53: 'predictable',\n",
              " 54: 'visually',\n",
              " 55: 'powerful',\n",
              " 56: 'message',\n",
              " 57: 'any',\n",
              " 58: 'sci',\n",
              " 59: 'fi',\n",
              " 60: 'fan',\n",
              " 61: 'wooden',\n",
              " 62: 'looked',\n",
              " 63: 'cheap',\n",
              " 64: 'disappointment',\n",
              " 65: 'hilarious',\n",
              " 66: 'had',\n",
              " 67: 'laughing',\n",
              " 68: 'out',\n",
              " 69: 'loud',\n",
              " 70: 'throughout',\n",
              " 71: 'pick',\n",
              " 72: 'up',\n",
              " 73: 'pacing',\n",
              " 74: 'slow',\n",
              " 75: 'not',\n",
              " 76: 'my',\n",
              " 77: 'cup',\n",
              " 78: 'tea',\n",
              " 79: 'stay',\n",
              " 80: 'long',\n",
              " 81: 'after',\n",
              " 82: 'credits',\n",
              " 83: 'roll',\n",
              " 84: 'underdeveloped',\n",
              " 85: 'skippable',\n",
              " 86: 'delightful',\n",
              " 87: 'family',\n",
              " 88: 'something',\n",
              " 89: 'everyone',\n",
              " 90: 'great',\n",
              " 91: 'choice',\n",
              " 92: 'heartbreaking',\n",
              " 93: 'truly',\n",
              " 94: 'moving',\n",
              " 95: 'historical',\n",
              " 96: 'drama',\n",
              " 97: 'captured',\n",
              " 98: 'essence',\n",
              " 99: 'time',\n",
              " 100: 'period',\n",
              " 101: 'beautifully',\n",
              " 102: 'cinematography',\n",
              " 103: 'convoluted',\n",
              " 104: 'overcoming',\n",
              " 105: 'adversity',\n",
              " 106: 'tearjerker',\n",
              " 107: 'so',\n",
              " 108: 'bad',\n",
              " 109: 'it',\n",
              " 110: 'cult',\n",
              " 111: 'classic',\n",
              " 112: 'in',\n",
              " 113: 'making',\n",
              " 114: 'challenges',\n",
              " 115: 'societal',\n",
              " 116: 'norms',\n",
              " 117: 'see',\n",
              " 118: 'social',\n",
              " 119: 'commentary',\n",
              " 120: 'fans',\n",
              " 121: 'groundbreaking',\n",
              " 122: 'emotional',\n",
              " 123: 'well',\n",
              " 124: 'paced',\n",
              " 125: 'suspenseful',\n",
              " 126: 'thriller',\n",
              " 127: 'keep',\n",
              " 128: 'unsatisfying',\n",
              " 129: 'leave',\n",
              " 130: 'smile',\n",
              " 131: 'feel',\n",
              " 132: 'animation',\n",
              " 133: 'beautiful',\n",
              " 134: 'sheds',\n",
              " 135: 'light',\n",
              " 136: 'on',\n",
              " 137: 'critical',\n",
              " 138: 'issue',\n",
              " 139: 'anyone',\n",
              " 140: 'concerned',\n",
              " 141: 'topic'}"
            ]
          },
          "metadata": {},
          "execution_count": 32
        }
      ]
    },
    {
      "cell_type": "code",
      "source": [
        "sequences"
      ],
      "metadata": {
        "colab": {
          "base_uri": "https://localhost:8080/"
        },
        "id": "uP0NgbpayguP",
        "outputId": "3b1cbb74-9a4c-4bc9-9ca6-fd0f0aaca93b"
      },
      "execution_count": 33,
      "outputs": [
        {
          "output_type": "execute_result",
          "data": {
            "text/plain": [
              "[[19,\n",
              "  12,\n",
              "  3,\n",
              "  2,\n",
              "  43,\n",
              "  13,\n",
              "  44,\n",
              "  45,\n",
              "  1,\n",
              "  7,\n",
              "  3,\n",
              "  46,\n",
              "  4,\n",
              "  1,\n",
              "  8,\n",
              "  47,\n",
              "  14,\n",
              "  20,\n",
              "  48,\n",
              "  1,\n",
              "  49,\n",
              "  50],\n",
              " [1, 51, 3, 52, 4, 1, 21, 53, 2, 22, 12],\n",
              " [2, 54, 23, 9, 10, 2, 55, 56, 2, 15, 24, 5, 57, 58, 59, 60],\n",
              " [1, 7, 3, 61, 4, 1, 25, 26, 62, 63, 2, 64],\n",
              " [2, 65, 27, 6, 66, 14, 67, 68, 69, 70, 28, 5, 2, 71, 14, 72],\n",
              " [1, 73, 3, 74, 4, 1, 29, 30, 31, 75, 76, 77, 13, 78],\n",
              " [2, 32, 33, 34, 6, 16, 79, 10, 17, 80, 81, 1, 82, 83],\n",
              " [1, 35, 18, 84, 4, 1, 8, 36, 37, 85],\n",
              " [2, 86, 87, 9, 10, 88, 5, 89, 2, 90, 91, 5, 2, 12, 38],\n",
              " [1, 7, 3, 39, 4, 1, 8, 3, 92, 2, 93, 94, 9],\n",
              " [19, 95, 96, 97, 1, 98, 13, 1, 99, 100, 101],\n",
              " [1, 102, 3, 23, 11, 1, 21, 3, 103],\n",
              " [2, 40, 8, 41, 104, 105, 2, 106],\n",
              " [1, 7, 3, 107, 108, 109, 3, 42, 2, 110, 111, 112, 1, 113],\n",
              " [2, 32, 33, 9, 6, 114, 115, 116, 15, 117, 5, 118, 119, 120],\n",
              " [1, 25, 26, 18, 121, 11, 1, 8, 36, 122, 37],\n",
              " [2, 123, 124, 4, 125, 126, 6, 16, 127, 17, 20],\n",
              " [1, 7, 3, 39, 11, 1, 29, 30, 31, 4, 128],\n",
              " [2, 40, 27, 6, 16, 129, 17, 10, 2, 130, 28, 5, 2, 131, 42, 38],\n",
              " [1, 132, 3, 133, 11, 1, 35, 18, 22],\n",
              " [2, 34, 6, 134, 135, 136, 2, 137, 138, 2, 15, 24, 5, 139, 140, 41, 1, 141]]"
            ]
          },
          "metadata": {},
          "execution_count": 33
        }
      ]
    },
    {
      "cell_type": "code",
      "source": [
        "# Pad sequences to a fixed length\n",
        "padded_sequences = pad_sequences(sequences, maxlen=100) #Adjust maxlen as needed"
      ],
      "metadata": {
        "id": "D9dkUFZ7yojT"
      },
      "execution_count": 34,
      "outputs": []
    },
    {
      "cell_type": "code",
      "source": [
        "padded_sequences"
      ],
      "metadata": {
        "colab": {
          "base_uri": "https://localhost:8080/"
        },
        "id": "KImhZuDyyqHu",
        "outputId": "7c77a557-18bc-49a3-e5e9-156e8e74ba34"
      },
      "execution_count": 35,
      "outputs": [
        {
          "output_type": "execute_result",
          "data": {
            "text/plain": [
              "array([[  0,   0,   0, ...,   1,  49,  50],\n",
              "       [  0,   0,   0, ...,   2,  22,  12],\n",
              "       [  0,   0,   0, ...,  58,  59,  60],\n",
              "       ...,\n",
              "       [  0,   0,   0, ..., 131,  42,  38],\n",
              "       [  0,   0,   0, ...,  35,  18,  22],\n",
              "       [  0,   0,   0, ...,  41,   1, 141]], dtype=int32)"
            ]
          },
          "metadata": {},
          "execution_count": 35
        }
      ]
    },
    {
      "cell_type": "code",
      "source": [
        "# Define vocabulary size and embedding dimension\n",
        "vocabulary_size = len(Tokenizer.word_index) + 1 # +1 for padding\n",
        "embedding_dim = 120 #Adjust embedding dimension as needed"
      ],
      "metadata": {
        "id": "fD6N_o9gyt-R"
      },
      "execution_count": 36,
      "outputs": []
    },
    {
      "cell_type": "code",
      "source": [
        "vocabulary_size"
      ],
      "metadata": {
        "colab": {
          "base_uri": "https://localhost:8080/"
        },
        "id": "3yptw84cyxyP",
        "outputId": "81f7a424-bd66-4e20-d872-7f4c658da7ef"
      },
      "execution_count": 37,
      "outputs": [
        {
          "output_type": "execute_result",
          "data": {
            "text/plain": [
              "142"
            ]
          },
          "metadata": {},
          "execution_count": 37
        }
      ]
    },
    {
      "cell_type": "code",
      "source": [
        "embedding_dim"
      ],
      "metadata": {
        "colab": {
          "base_uri": "https://localhost:8080/"
        },
        "id": "8IhWT6W6y2RK",
        "outputId": "12cd371f-abf8-4b8b-a8c9-0a7f70d23746"
      },
      "execution_count": 38,
      "outputs": [
        {
          "output_type": "execute_result",
          "data": {
            "text/plain": [
              "120"
            ]
          },
          "metadata": {},
          "execution_count": 38
        }
      ]
    },
    {
      "cell_type": "code",
      "source": [
        "# create the embedding layer\n",
        "embedding_layer = tf.keras.layers.Embedding (vocabulary_size, embedding_dim, input_length=100)"
      ],
      "metadata": {
        "id": "ek_o_liIy726"
      },
      "execution_count": 39,
      "outputs": []
    },
    {
      "cell_type": "code",
      "source": [
        "# Build the classification model\n",
        "model = tf.keras.models.Sequential()"
      ],
      "metadata": {
        "id": "37EN962-y-A-"
      },
      "execution_count": 40,
      "outputs": []
    },
    {
      "cell_type": "code",
      "source": [
        "model.add(embedding_layer)  #First layer\n",
        "model.add(tf.keras.layers.Flatten())   # Flatten the embedded sequences layer\n",
        "model.add(tf.keras.layers.Dense(1, activation='softmax'))  #output layer"
      ],
      "metadata": {
        "id": "lIqWMVYKzDGW"
      },
      "execution_count": 41,
      "outputs": []
    },
    {
      "cell_type": "code",
      "source": [
        "# Compile the model\n",
        "model.compile(optimizer= 'adam', loss='binary_crossentropy', metrics=['accuracy'] )"
      ],
      "metadata": {
        "id": "a3P-VIvRzFl_"
      },
      "execution_count": 42,
      "outputs": []
    },
    {
      "cell_type": "code",
      "source": [
        "model.summary()"
      ],
      "metadata": {
        "colab": {
          "base_uri": "https://localhost:8080/",
          "height": 267
        },
        "id": "PPLWFJ_6zLCA",
        "outputId": "518a1dfc-6377-4c02-d2a7-55711fe3b765"
      },
      "execution_count": 50,
      "outputs": [
        {
          "output_type": "display_data",
          "data": {
            "text/plain": [
              "\u001b[1mModel: \"sequential_1\"\u001b[0m\n"
            ],
            "text/html": [
              "<pre style=\"white-space:pre;overflow-x:auto;line-height:normal;font-family:Menlo,'DejaVu Sans Mono',consolas,'Courier New',monospace\"><span style=\"font-weight: bold\">Model: \"sequential_1\"</span>\n",
              "</pre>\n"
            ]
          },
          "metadata": {}
        },
        {
          "output_type": "display_data",
          "data": {
            "text/plain": [
              "┏━━━━━━━━━━━━━━━━━━━━━━━━━━━━━━━━━━━━━━┳━━━━━━━━━━━━━━━━━━━━━━━━━━━━━┳━━━━━━━━━━━━━━━━━┓\n",
              "┃\u001b[1m \u001b[0m\u001b[1mLayer (type)                        \u001b[0m\u001b[1m \u001b[0m┃\u001b[1m \u001b[0m\u001b[1mOutput Shape               \u001b[0m\u001b[1m \u001b[0m┃\u001b[1m \u001b[0m\u001b[1m        Param #\u001b[0m\u001b[1m \u001b[0m┃\n",
              "┡━━━━━━━━━━━━━━━━━━━━━━━━━━━━━━━━━━━━━━╇━━━━━━━━━━━━━━━━━━━━━━━━━━━━━╇━━━━━━━━━━━━━━━━━┩\n",
              "│ embedding_1 (\u001b[38;5;33mEmbedding\u001b[0m)              │ (\u001b[38;5;45mNone\u001b[0m, \u001b[38;5;34m100\u001b[0m, \u001b[38;5;34m120\u001b[0m)            │          \u001b[38;5;34m17,040\u001b[0m │\n",
              "├──────────────────────────────────────┼─────────────────────────────┼─────────────────┤\n",
              "│ flatten_1 (\u001b[38;5;33mFlatten\u001b[0m)                  │ (\u001b[38;5;45mNone\u001b[0m, \u001b[38;5;34m12000\u001b[0m)               │               \u001b[38;5;34m0\u001b[0m │\n",
              "├──────────────────────────────────────┼─────────────────────────────┼─────────────────┤\n",
              "│ dense_1 (\u001b[38;5;33mDense\u001b[0m)                      │ (\u001b[38;5;45mNone\u001b[0m, \u001b[38;5;34m1\u001b[0m)                   │          \u001b[38;5;34m12,001\u001b[0m │\n",
              "└──────────────────────────────────────┴─────────────────────────────┴─────────────────┘\n"
            ],
            "text/html": [
              "<pre style=\"white-space:pre;overflow-x:auto;line-height:normal;font-family:Menlo,'DejaVu Sans Mono',consolas,'Courier New',monospace\">┏━━━━━━━━━━━━━━━━━━━━━━━━━━━━━━━━━━━━━━┳━━━━━━━━━━━━━━━━━━━━━━━━━━━━━┳━━━━━━━━━━━━━━━━━┓\n",
              "┃<span style=\"font-weight: bold\"> Layer (type)                         </span>┃<span style=\"font-weight: bold\"> Output Shape                </span>┃<span style=\"font-weight: bold\">         Param # </span>┃\n",
              "┡━━━━━━━━━━━━━━━━━━━━━━━━━━━━━━━━━━━━━━╇━━━━━━━━━━━━━━━━━━━━━━━━━━━━━╇━━━━━━━━━━━━━━━━━┩\n",
              "│ embedding_1 (<span style=\"color: #0087ff; text-decoration-color: #0087ff\">Embedding</span>)              │ (<span style=\"color: #00d7ff; text-decoration-color: #00d7ff\">None</span>, <span style=\"color: #00af00; text-decoration-color: #00af00\">100</span>, <span style=\"color: #00af00; text-decoration-color: #00af00\">120</span>)            │          <span style=\"color: #00af00; text-decoration-color: #00af00\">17,040</span> │\n",
              "├──────────────────────────────────────┼─────────────────────────────┼─────────────────┤\n",
              "│ flatten_1 (<span style=\"color: #0087ff; text-decoration-color: #0087ff\">Flatten</span>)                  │ (<span style=\"color: #00d7ff; text-decoration-color: #00d7ff\">None</span>, <span style=\"color: #00af00; text-decoration-color: #00af00\">12000</span>)               │               <span style=\"color: #00af00; text-decoration-color: #00af00\">0</span> │\n",
              "├──────────────────────────────────────┼─────────────────────────────┼─────────────────┤\n",
              "│ dense_1 (<span style=\"color: #0087ff; text-decoration-color: #0087ff\">Dense</span>)                      │ (<span style=\"color: #00d7ff; text-decoration-color: #00d7ff\">None</span>, <span style=\"color: #00af00; text-decoration-color: #00af00\">1</span>)                   │          <span style=\"color: #00af00; text-decoration-color: #00af00\">12,001</span> │\n",
              "└──────────────────────────────────────┴─────────────────────────────┴─────────────────┘\n",
              "</pre>\n"
            ]
          },
          "metadata": {}
        },
        {
          "output_type": "display_data",
          "data": {
            "text/plain": [
              "\u001b[1m Total params: \u001b[0m\u001b[38;5;34m87,125\u001b[0m (340.34 KB)\n"
            ],
            "text/html": [
              "<pre style=\"white-space:pre;overflow-x:auto;line-height:normal;font-family:Menlo,'DejaVu Sans Mono',consolas,'Courier New',monospace\"><span style=\"font-weight: bold\"> Total params: </span><span style=\"color: #00af00; text-decoration-color: #00af00\">87,125</span> (340.34 KB)\n",
              "</pre>\n"
            ]
          },
          "metadata": {}
        },
        {
          "output_type": "display_data",
          "data": {
            "text/plain": [
              "\u001b[1m Trainable params: \u001b[0m\u001b[38;5;34m29,041\u001b[0m (113.44 KB)\n"
            ],
            "text/html": [
              "<pre style=\"white-space:pre;overflow-x:auto;line-height:normal;font-family:Menlo,'DejaVu Sans Mono',consolas,'Courier New',monospace\"><span style=\"font-weight: bold\"> Trainable params: </span><span style=\"color: #00af00; text-decoration-color: #00af00\">29,041</span> (113.44 KB)\n",
              "</pre>\n"
            ]
          },
          "metadata": {}
        },
        {
          "output_type": "display_data",
          "data": {
            "text/plain": [
              "\u001b[1m Non-trainable params: \u001b[0m\u001b[38;5;34m0\u001b[0m (0.00 B)\n"
            ],
            "text/html": [
              "<pre style=\"white-space:pre;overflow-x:auto;line-height:normal;font-family:Menlo,'DejaVu Sans Mono',consolas,'Courier New',monospace\"><span style=\"font-weight: bold\"> Non-trainable params: </span><span style=\"color: #00af00; text-decoration-color: #00af00\">0</span> (0.00 B)\n",
              "</pre>\n"
            ]
          },
          "metadata": {}
        },
        {
          "output_type": "display_data",
          "data": {
            "text/plain": [
              "\u001b[1m Optimizer params: \u001b[0m\u001b[38;5;34m58,084\u001b[0m (226.89 KB)\n"
            ],
            "text/html": [
              "<pre style=\"white-space:pre;overflow-x:auto;line-height:normal;font-family:Menlo,'DejaVu Sans Mono',consolas,'Courier New',monospace\"><span style=\"font-weight: bold\"> Optimizer params: </span><span style=\"color: #00af00; text-decoration-color: #00af00\">58,084</span> (226.89 KB)\n",
              "</pre>\n"
            ]
          },
          "metadata": {}
        }
      ]
    },
    {
      "cell_type": "code",
      "source": [
        "model.fit(padded_sequences, labels, epochs=5)"
      ],
      "metadata": {
        "colab": {
          "base_uri": "https://localhost:8080/"
        },
        "id": "k16i74Q3zU31",
        "outputId": "328fb74b-5c63-4d75-e451-3f4d3741753d"
      },
      "execution_count": 46,
      "outputs": [
        {
          "output_type": "stream",
          "name": "stdout",
          "text": [
            "Epoch 1/5\n",
            "\u001b[1m1/1\u001b[0m \u001b[32m━━━━━━━━━━━━━━━━━━━━\u001b[0m\u001b[37m\u001b[0m \u001b[1m1s\u001b[0m 1s/step - accuracy: 0.6190 - loss: 0.6927\n",
            "Epoch 2/5\n",
            "\u001b[1m1/1\u001b[0m \u001b[32m━━━━━━━━━━━━━━━━━━━━\u001b[0m\u001b[37m\u001b[0m \u001b[1m0s\u001b[0m 51ms/step - accuracy: 0.6190 - loss: 0.6584\n",
            "Epoch 3/5\n",
            "\u001b[1m1/1\u001b[0m \u001b[32m━━━━━━━━━━━━━━━━━━━━\u001b[0m\u001b[37m\u001b[0m \u001b[1m0s\u001b[0m 52ms/step - accuracy: 0.6190 - loss: 0.6418\n",
            "Epoch 4/5\n",
            "\u001b[1m1/1\u001b[0m \u001b[32m━━━━━━━━━━━━━━━━━━━━\u001b[0m\u001b[37m\u001b[0m \u001b[1m0s\u001b[0m 60ms/step - accuracy: 0.6190 - loss: 0.6353\n",
            "Epoch 5/5\n",
            "\u001b[1m1/1\u001b[0m \u001b[32m━━━━━━━━━━━━━━━━━━━━\u001b[0m\u001b[37m\u001b[0m \u001b[1m0s\u001b[0m 55ms/step - accuracy: 0.6190 - loss: 0.6280\n"
          ]
        },
        {
          "output_type": "execute_result",
          "data": {
            "text/plain": [
              "<keras.src.callbacks.history.History at 0x7e5705d76390>"
            ]
          },
          "metadata": {},
          "execution_count": 46
        }
      ]
    },
    {
      "cell_type": "code",
      "source": [
        "########Testing####################"
      ],
      "metadata": {
        "id": "NQFXkWsXziOG"
      },
      "execution_count": 47,
      "outputs": []
    },
    {
      "cell_type": "code",
      "source": [
        "def predict_sentiment(new_sentence):\n",
        "  #Tokenize the new sentence\n",
        "  new_sequence = Tokenizer.texts_to_sequences([new_sentence])\n",
        "\n",
        "  # Pad the new sequence\n",
        "  new_padded_sequence = pad_sequences(new_sequence, maxlen=100)\n",
        "\n",
        "  # Predict sentiment for the new sentence\n",
        "  prediction = model.predict(new_padded_sequence)\n",
        "\n",
        "  # Extract the predicted class (positive or negative)\n",
        "  predicted_class = np.round(prediction[0][0].astype(int))\n",
        "\n",
        "  # Print the predicted sentiment\n",
        "  if predicted_class == 1:\n",
        "    print (f\"Predicted sentiment for '{new_sentence}' : Positive\")\n",
        "  else:\n",
        "    print (f\"Predicted sentiment for '{new_sentence}' : Negative\")"
      ],
      "metadata": {
        "id": "JswM0lzuzjoW"
      },
      "execution_count": 48,
      "outputs": []
    },
    {
      "cell_type": "code",
      "source": [
        "# example usage\n",
        "new_sentence = \"I liked this movie!\"\n",
        "predict_sentiment(new_sentence)"
      ],
      "metadata": {
        "colab": {
          "base_uri": "https://localhost:8080/"
        },
        "id": "c3nh_VFPzo8l",
        "outputId": "eae2546d-748d-4e8f-d073-9aea2931d3cf"
      },
      "execution_count": 49,
      "outputs": [
        {
          "output_type": "stream",
          "name": "stdout",
          "text": [
            "\u001b[1m1/1\u001b[0m \u001b[32m━━━━━━━━━━━━━━━━━━━━\u001b[0m\u001b[37m\u001b[0m \u001b[1m0s\u001b[0m 83ms/step\n",
            "Predicted sentiment for 'I liked this movie!' : Positive\n"
          ]
        }
      ]
    }
  ]
}